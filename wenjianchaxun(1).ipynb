{
 "cells": [
  {
   "cell_type": "code",
   "execution_count": 1,
   "metadata": {},
   "outputs": [],
   "source": [
    "import tensorflow as tf\n",
    "import numpy as np\n",
    "\n",
    "x_data = np.random.rand(100).astype(np.float32)\n",
    "y_data = x_data*0.1+0.3"
   ]
  },
  {
   "cell_type": "code",
   "execution_count": 2,
   "metadata": {},
   "outputs": [],
   "source": [
    "Weights = tf.Variable(tf.random_uniform([1],-1.0,1.0))\n",
    "biases = tf.Variable(tf.zeros([1]))\n",
    "\n",
    "y = Weights*x_data + biases"
   ]
  },
  {
   "cell_type": "code",
   "execution_count": 3,
   "metadata": {},
   "outputs": [],
   "source": [
    "loss = tf.reduce_mean(tf.square(y-y_data))"
   ]
  },
  {
   "cell_type": "code",
   "execution_count": 5,
   "metadata": {},
   "outputs": [],
   "source": [
    "optimizer = tf.train.GradientDescentOptimizer(0.5)\n",
    "train = optimizer.minimize(loss)"
   ]
  },
  {
   "cell_type": "code",
   "execution_count": 6,
   "metadata": {},
   "outputs": [],
   "source": [
    "init = tf.global_variables_initializer()"
   ]
  },
  {
   "cell_type": "code",
   "execution_count": 7,
   "metadata": {},
   "outputs": [
    {
     "name": "stdout",
     "output_type": "stream",
     "text": [
      "0 [-0.36377305] [0.7255977]\n",
      "20 [-0.0311835] [0.367531]\n",
      "40 [0.06812018] [0.3164112]\n",
      "60 [0.09225266] [0.30398822]\n",
      "80 [0.09811728] [0.3009692]\n",
      "100 [0.09954248] [0.30023554]\n",
      "120 [0.09988882] [0.30005723]\n",
      "140 [0.09997299] [0.3000139]\n",
      "160 [0.09999344] [0.30000338]\n",
      "180 [0.09999839] [0.30000085]\n",
      "200 [0.09999961] [0.30000022]\n"
     ]
    }
   ],
   "source": [
    "sess = tf.Session()\n",
    "sess.run(init)\n",
    "\n",
    "for step in range(201):\n",
    "    sess.run(train)\n",
    "    if step % 20 == 0:\n",
    "        print(step,sess.run(Weights),sess.run(biases))"
   ]
  },
  {
   "cell_type": "markdown",
   "metadata": {},
   "source": [
    "# session"
   ]
  },
  {
   "cell_type": "code",
   "execution_count": 8,
   "metadata": {},
   "outputs": [],
   "source": [
    "matrix1 = tf.constant([[3,3]])\n",
    "matrix2 = tf.constant([[2],\n",
    "                      [2]])\n",
    "product = tf.matmul(matrix1,matrix2)"
   ]
  },
  {
   "cell_type": "code",
   "execution_count": 11,
   "metadata": {},
   "outputs": [
    {
     "name": "stdout",
     "output_type": "stream",
     "text": [
      "[[12]]\n"
     ]
    }
   ],
   "source": [
    "#method 1\n",
    "sess = tf.Session()\n",
    "result = sess.run(product)\n",
    "print(result)\n",
    "sess.close()"
   ]
  },
  {
   "cell_type": "code",
   "execution_count": 13,
   "metadata": {},
   "outputs": [
    {
     "name": "stdout",
     "output_type": "stream",
     "text": [
      "[[12]]\n"
     ]
    }
   ],
   "source": [
    "#method2\n",
    "with tf.Session() as sess:\n",
    "    result2 = sess.run(product)\n",
    "    print(result2)"
   ]
  },
  {
   "cell_type": "markdown",
   "metadata": {},
   "source": [
    "# Variable"
   ]
  },
  {
   "cell_type": "code",
   "execution_count": 14,
   "metadata": {},
   "outputs": [],
   "source": [
    "state = tf.Variable(0,name='counter')\n",
    "\n",
    "#定义常量one\n",
    "one = tf.constant(1)\n",
    "\n",
    "#定义加法步骤（刺不并没有直接计算）\n",
    "new_value = tf.add(state,one)\n",
    "\n",
    "#将State 更新成new_value\n",
    "update = tf.assign(state,new_value)"
   ]
  },
  {
   "cell_type": "code",
   "execution_count": 17,
   "metadata": {},
   "outputs": [
    {
     "name": "stdout",
     "output_type": "stream",
     "text": [
      "1\n",
      "2\n",
      "3\n"
     ]
    }
   ],
   "source": [
    "# 如果定义 Variable, 就一定要 initialize\n",
    "init = tf.global_variables_initializer()\n",
    "\n",
    "#使用Session\n",
    "with tf.Session() as sess:\n",
    "    sess.run(init)\n",
    "    for _ in range(3):\n",
    "        sess.run(update)\n",
    "        print(sess.run(state))"
   ]
  },
  {
   "cell_type": "markdown",
   "metadata": {},
   "source": [
    "# placeholder "
   ]
  },
  {
   "cell_type": "code",
   "execution_count": 21,
   "metadata": {},
   "outputs": [],
   "source": [
    "#在 Tensorflow 中需要定义 placeholder 的 type ，一般为 float32 形式\n",
    "input1 = tf.placeholder(tf.float32)\n",
    "input2 = tf.placeholder(tf.float32)\n",
    "\n",
    "output = tf.multiply(input1,input2)"
   ]
  },
  {
   "cell_type": "code",
   "execution_count": 22,
   "metadata": {},
   "outputs": [
    {
     "name": "stdout",
     "output_type": "stream",
     "text": [
      "[14.]\n"
     ]
    }
   ],
   "source": [
    "with tf.Session() as sess:\n",
    "    print(sess.run(output,feed_dict={input1:[7.],input2:[2.0]}))\n",
    "    "
   ]
  },
  {
   "cell_type": "markdown",
   "metadata": {},
   "source": [
    "# (Activation Function)添加层"
   ]
  },
  {
   "cell_type": "code",
   "execution_count": 2,
   "metadata": {},
   "outputs": [],
   "source": [
    "def add_layer(input,in_size,out_size,activation_function=None):\n",
    "    Weights = tf.Variable(tf.random_normal([in_size, out_size]))\n",
    "    biases = tf.Variable(tf.zeros([1,out_size])+ 0.1)\n",
    "    Wx_plus_b = tf.matmul(input, Weights) + biases\n",
    "    if activation_function is None:\n",
    "        outputs = Wx_plus_b\n",
    "    else:\n",
    "        outputs = activation_function(Wx_plus_b)\n",
    "    return outputs"
   ]
  },
  {
   "cell_type": "code",
   "execution_count": null,
   "metadata": {},
   "outputs": [],
   "source": [
    "#可视化\n",
    "def add_layer(input,in_size,out_size,activation_function=None):\n",
    "    with tf.name_scope(\"layer\"):\n",
    "        with tf.name_scope('weights'):\n",
    "            Weights = tf.Variable(tf.random_normal([in_size, out_size]))\n",
    "        with tf.name_scope('Wx_plus_b'):\n",
    "            Wx_plus_b = tf.matmul(input, Weights) + biases\n",
    "        with tf.name_scope('biases'):\n",
    "            biases = tf.Variable(tf.zeros([1,out_size])+ 0.1)\n",
    "        if activation_function is None:\n",
    "            outputs = Wx_plus_b\n",
    "        else:\n",
    "            outputs = activation_function(Wx_plus_b)\n",
    "        return outputs\n",
    "        "
   ]
  },
  {
   "cell_type": "code",
   "execution_count": 3,
   "metadata": {},
   "outputs": [],
   "source": [
    "import numpy as np\n",
    "import tensorflow as tf"
   ]
  },
  {
   "cell_type": "code",
   "execution_count": 49,
   "metadata": {},
   "outputs": [],
   "source": [
    "x_data = np.linspace(-1,1,300,dtype=np.float32)[:,np.newaxis]\n",
    "noise = np.random.normal(0, 0.05, x_data.shape).astype(np.float32)\n",
    "y_data = np.square(x_data) - 0.5 + noise"
   ]
  },
  {
   "cell_type": "code",
   "execution_count": 50,
   "metadata": {},
   "outputs": [],
   "source": [
    "with tf.name_scope(\"inputs\"):\n",
    "    xs = tf.placeholder(tf.float32,[None, 1],name='x_in')\n",
    "    ys = tf.placeholder(tf.float32,[None,1],name='y_in')"
   ]
  },
  {
   "cell_type": "markdown",
   "metadata": {},
   "source": [
    "xs = tf.placeholder(tf.float32,[None,1])\n",
    "ys = tf.placeholder(tf.float32,[None,1])"
   ]
  },
  {
   "cell_type": "code",
   "execution_count": 51,
   "metadata": {},
   "outputs": [],
   "source": [
    "l1 = add_layer(xs,1, 10, activation_function=tf.nn.relu)\n",
    "prediction = add_layer(l1,10,1,activation_function=None)"
   ]
  },
  {
   "cell_type": "code",
   "execution_count": 56,
   "metadata": {},
   "outputs": [],
   "source": [
    "with tf.name_scope('loss'):\n",
    "    loss = tf.reduce_mean(tf.reduce_sum(tf.square(ys - prediction),\n",
    "                                   reduction_indices=[1]))\n",
    "with tf.name_scope('train'):\n",
    "    train_step = tf.train.GradientDescentOptimizer(0.1).minimize(loss)\n"
   ]
  },
  {
   "cell_type": "code",
   "execution_count": 57,
   "metadata": {},
   "outputs": [],
   "source": [
    "sess = tf.Session()\n",
    "writer = tf.summary.FileWriter(\"logs/\",sess.graph)\n",
    "init = tf.global_variables_initializer()\n",
    "sess.run(init)\n"
   ]
  },
  {
   "cell_type": "code",
   "execution_count": 61,
   "metadata": {},
   "outputs": [
    {
     "ename": "SyntaxError",
     "evalue": "invalid syntax (<ipython-input-61-575f178ee557>, line 1)",
     "output_type": "error",
     "traceback": [
      "\u001b[1;36m  File \u001b[1;32m\"<ipython-input-61-575f178ee557>\"\u001b[1;36m, line \u001b[1;32m1\u001b[0m\n\u001b[1;33m    tensorboard --logdir logs\u001b[0m\n\u001b[1;37m                            ^\u001b[0m\n\u001b[1;31mSyntaxError\u001b[0m\u001b[1;31m:\u001b[0m invalid syntax\n"
     ]
    }
   ],
   "source": [
    "tensorboard --logdir logs"
   ]
  },
  {
   "cell_type": "markdown",
   "metadata": {},
   "source": [
    "训练"
   ]
  },
  {
   "cell_type": "code",
   "execution_count": 46,
   "metadata": {
    "scrolled": true
   },
   "outputs": [],
   "source": [
    "import matplotlib.pyplot as plt\n",
    "\n",
    "%matplotlib qt\n",
    "fig = plt.figure()\n",
    "ax = fig.add_subplot(1,1,1)\n",
    "ax.scatter(x_data,y_data)\n",
    "plt.ion()#plt.ion()#本次运行请注释，全局运行不要注释"
   ]
  },
  {
   "cell_type": "code",
   "execution_count": 48,
   "metadata": {},
   "outputs": [],
   "source": [
    "for i in range(1000):\n",
    "    sess.run(train_step,feed_dict={xs:x_data,ys:y_data})\n",
    "    if i%50 == 0:\n",
    "        try:\n",
    "            ax.lines.remove( [lines[0]])\n",
    "        except Exception:\n",
    "            pass\n",
    "        prediction_value = sess.run(prediction,feed_dict={xs:x_data,ys:y_data})\n",
    "        lines = ax.plot(x_data,prediction_value,'r-',lw=5)\n",
    "        plt.pause(1)"
   ]
  },
  {
   "cell_type": "code",
   "execution_count": null,
   "metadata": {},
   "outputs": [],
   "source": []
  },
  {
   "cell_type": "code",
   "execution_count": null,
   "metadata": {},
   "outputs": [],
   "source": []
  },
  {
   "cell_type": "code",
   "execution_count": null,
   "metadata": {},
   "outputs": [],
   "source": []
  },
  {
   "cell_type": "code",
   "execution_count": 2,
   "metadata": {
    "collapsed": true
   },
   "outputs": [],
   "source": [
    "import json\n",
    "import easygui as g\n",
    "import sys\n",
    "import pandas as pd\n",
    "from pandas.io.parsers import read_csv\n",
    "import numpy as np\n",
    "from datetime import datetime\n",
    "import matplotlib.pyplot as plt\n",
    "from itertools import groupby\n",
    "\n",
    "\n",
    "class Draw:\n",
    "    def __init__(self,x,y1,y2=[]):\n",
    "        self.x=x\n",
    "        self.y1=y1\n",
    "        self.y2=y2\n",
    "    \n",
    "    def plot_scatter(self,title,xlabel,ylabel,name):\n",
    "        plt.scatter(self.x,self.y1,s=100,c=\"red\",)\n",
    "        plt.scatter(self.x,self.y2,s=100,c=\"blue\")\n",
    "        plt.title(title,fontsize = 24)\n",
    "        plt.xlabel(xlabel,fontsize = 14)\n",
    "        plt.ylabel(ylabel,fontsize = 14)\n",
    "        plt.savefig(name,bbox_inches = \"tight\")\n",
    "        plt.show()\n",
    "        \n",
    "    def plot_plot(self,title,xlabel,ylabel,name):\n",
    "        fig = plt.figure(figsize=(10,6))\n",
    "        fig.autofmt_xdate()  #可以设置横坐标的日期倾斜，不至于重叠\n",
    "        plt.plot(self.x,self.y1,linewidth=3,c=\"red\",alpha = 0.5)  #alpha是颜色的透明度，0代表完全透明，1代表不透明\n",
    "        plt.plot(self.x,self.y2,linewidth=3,c=\"blue\",alpha = 0.5)\n",
    "        plt.title(title,fontsize = 24)\n",
    "        plt.xlabel(xlabel,fontsize = 14)\n",
    "        plt.ylabel(ylabel,fontsize = 14)\n",
    "        plt.fill_between(dates,highs,lows,facecolor = \"blue\",alpha = 0.1)  #设置两条折线之间的颜色填充\n",
    "        plt.savefig(name,bbox_inches = \"tight\")\n",
    "        plt.show()"
   ]
  },
  {
   "cell_type": "code",
   "execution_count": 5,
   "metadata": {},
   "outputs": [
    {
     "name": "stdout",
     "output_type": "stream",
     "text": [
      "[0]\n",
      "CSV文件转换为DataFrame：\n",
      "         date  month  max_tem  min_tem\n",
      "0    2018-4-5      4        2       -2\n",
      "1   2018-4-10      4        4       -2\n",
      "2   2018-4-15      4        5       -1\n",
      "3   2018-4-20      4        5        0\n",
      "4   2018-4-25      4        7       -1\n",
      "5   2018-4-30      4        9        2\n",
      "6    2018-5-5      5       12        5\n",
      "7   2018-5-10      5       14        6\n",
      "8   2018-5-15      5       17        6\n",
      "9   2018-5-20      5       16        8\n",
      "10  2018-5-25      5       19       10\n",
      "11  2018-5-30      5       22       10\n",
      "12   2018-6-5      6       24       12\n",
      "13  2018-6-10      6       26       15\n",
      "14  2018-6-15      6       25       18\n",
      "15  2018-6-20      6       29       20\n",
      "16  2018-6-25      6       28       24\n",
      "17  2018-6-30      6       30       27\n",
      "\n",
      "\n",
      "dates\n",
      "[datetime.datetime(2018, 4, 5, 0, 0), datetime.datetime(2018, 4, 10, 0, 0), datetime.datetime(2018, 4, 15, 0, 0), datetime.datetime(2018, 4, 20, 0, 0), datetime.datetime(2018, 4, 25, 0, 0), datetime.datetime(2018, 4, 30, 0, 0), datetime.datetime(2018, 5, 5, 0, 0), datetime.datetime(2018, 5, 10, 0, 0), datetime.datetime(2018, 5, 15, 0, 0), datetime.datetime(2018, 5, 20, 0, 0), datetime.datetime(2018, 5, 25, 0, 0), datetime.datetime(2018, 5, 30, 0, 0), datetime.datetime(2018, 6, 5, 0, 0), datetime.datetime(2018, 6, 10, 0, 0), datetime.datetime(2018, 6, 15, 0, 0), datetime.datetime(2018, 6, 20, 0, 0), datetime.datetime(2018, 6, 25, 0, 0), datetime.datetime(2018, 6, 30, 0, 0)]\n",
      "\n",
      "\n",
      "months\n",
      "[4 4 4 4 4 4 5 5 5 5 5 5 6 6 6 6 6 6]\n",
      "\n",
      "\n",
      "highs\n",
      "[ 2  4  5  5  7  9 12 14 17 16 19 22 24 26 25 29 28 30]\n",
      "\n",
      "\n",
      "lows\n",
      "[-2 -2 -1  0 -1  2  5  6  6  8 10 10 12 15 18 20 24 27]\n",
      "\n",
      "\n",
      "单独获取四月和六月的数据\n",
      "         date  month  max_tem  min_tem\n",
      "0    2018-4-5      4        2       -2\n",
      "1   2018-4-10      4        4       -2\n",
      "2   2018-4-15      4        5       -1\n",
      "3   2018-4-20      4        5        0\n",
      "4   2018-4-25      4        7       -1\n",
      "5   2018-4-30      4        9        2\n",
      "12   2018-6-5      6       24       12\n",
      "13  2018-6-10      6       26       15\n",
      "14  2018-6-15      6       25       18\n",
      "15  2018-6-20      6       29       20\n",
      "16  2018-6-25      6       28       24\n",
      "17  2018-6-30      6       30       27\n"
     ]
    },
    {
     "data": {
      "image/png": "[encoded data removed]",
      "text/plain": [
       "<Figure size 432x288 with 1 Axes>"
      ]
     },
     "metadata": {},
     "output_type": "display_data"
    },
    {
     "data": {
      "image/png": "[encoded data removed]",
      "text/plain": [
       "<Figure size 720x432 with 1 Axes>"
      ]
     },
     "metadata": {},
     "output_type": "display_data"
    },
    {
     "name": "stdout",
     "output_type": "stream",
     "text": [
      "4\n",
      "        date  month  max_tem  min_tem\n",
      "0   2018-4-5      4        2       -2\n",
      "1  2018-4-10      4        4       -2\n",
      "2  2018-4-15      4        5       -1\n",
      "3  2018-4-20      4        5        0\n",
      "4  2018-4-25      4        7       -1\n",
      "5  2018-4-30      4        9        2\n",
      "计算当前组（月）最高温的平均值和最低温的平均值\n",
      "5.33333333333\n",
      "-0.666666666667\n",
      "\n",
      "\n",
      "\n",
      "5\n",
      "         date  month  max_tem  min_tem\n",
      "6    2018-5-5      5       12        5\n",
      "7   2018-5-10      5       14        6\n",
      "8   2018-5-15      5       17        6\n",
      "9   2018-5-20      5       16        8\n",
      "10  2018-5-25      5       19       10\n",
      "11  2018-5-30      5       22       10\n",
      "计算当前组（月）最高温的平均值和最低温的平均值\n",
      "16.6666666667\n",
      "7.5\n",
      "\n",
      "\n",
      "\n",
      "6\n",
      "         date  month  max_tem  min_tem\n",
      "12   2018-6-5      6       24       12\n",
      "13  2018-6-10      6       26       15\n",
      "14  2018-6-15      6       25       18\n",
      "15  2018-6-20      6       29       20\n",
      "16  2018-6-25      6       28       24\n",
      "17  2018-6-30      6       30       27\n",
      "计算当前组（月）最高温的平均值和最低温的平均值\n",
      "27.0\n",
      "19.3333333333\n",
      "\n",
      "\n",
      "\n"
     ]
    },
    {
     "data": {
      "image/png": "[encoded data removed]",
      "text/plain": [
       "<Figure size 432x288 with 1 Axes>"
      ]
     },
     "metadata": {},
     "output_type": "display_data"
    },
    {
     "name": "stdout",
     "output_type": "stream",
     "text": [
      "用分组的结果outcome调用agg函数对每组数据施加函数，计算每组（月）数据的平均值和中位数\n",
      "         max_tem           min_tem       \n",
      "            mean median       mean median\n",
      "month                                    \n",
      "4       5.333333    5.0  -0.666667     -1\n",
      "5      16.666667   16.5   7.500000      7\n",
      "6      27.000000   27.0  19.333333     19\n",
      "\n",
      "\n",
      "\n",
      "\n",
      "数据透视表\n",
      "          sum               mean               amax            amin        \n",
      "      max_tem min_tem    max_tem    min_tem max_tem min_tem max_tem min_tem\n",
      "month                                                                      \n",
      "4          32      -4   5.333333  -0.666667       9       2       2      -2\n",
      "5         100      45  16.666667   7.500000      22      10      12       5\n",
      "6         162     116  27.000000  19.333333      30      27      24      12\n",
      "\n",
      "\n"
     ]
    }
   ],
   "source": [
    "#对ages和temperature文件进行操作并显示结果\n",
    "tf = True  #设置标记\n",
    "while tf:  #多次选择文件\n",
    "    #选择文件\n",
    "    g.msgbox(msg=\"欢迎进入第一个界面！\",title=\"文件分析\",ok_button=\"开始\") #msgbox() 显示一个消息和提供一个\"OK\"按钮，你可以指定任意的消息和标题\n",
    "    msg = \"请问你想分析哪个文件？\"\n",
    "    title = \"文件分析\"\n",
    "    choices = [\"ages.json\",\"temperature.csv\"]\n",
    "    # choicebox() 为用户提供了一个可选择的列表，使用序列（元祖或列表）作为选项，这些选项显示前会按照不区分大小写的方法排好序。\n",
    "    filename = str(g.choicebox(msg,title,choices))    \n",
    "    \n",
    "    #分析json文件，计算标准体重\n",
    "    if filename.endswith(\"json\"):   \n",
    "        names=[]\n",
    "        sexes=[]\n",
    "        ages = []\n",
    "        heights = []\n",
    "        weights = []\n",
    "        weight_nors = []\n",
    "        results=[]\n",
    "        #获取数据\n",
    "        with open(filename)as f:\n",
    "            data = json.load(f)\n",
    "            print(\"data\"),print(data),print(\"\\n\")\n",
    "            \n",
    "            #遍历获取数据\n",
    "            for dict_age in data:\n",
    "                try:  #检验是否存在空值，如果有空值，则停止本次循环，遍历下一个元素\n",
    "                    name = dict_age[\"name\"]           \n",
    "                    sex = dict_age[\"sex\"]\n",
    "                    age = dict_age[\"age\"]\n",
    "                    height = float(dict_age[\"height\"])\n",
    "                    weight = float(dict_age[\"weight\"])\n",
    "                except:\n",
    "                    continue\n",
    "                else:\n",
    "                    #计算标准体重，并与文件中的体重进行比较\n",
    "                    if sex == \"b\":\n",
    "                        weight_nor = (height-80)*0.7\n",
    "                    else:\n",
    "                        weight_nor = (height-70)*0.6\n",
    "                        \n",
    "                    if weight > weight_nor*(1+0.1): \n",
    "                        result = \"体重过重\"\n",
    "                    elif weight < weight_nor*(1-0.1):\n",
    "                        result = \"体重过轻\"\n",
    "                    else:\n",
    "                        result = \"正常体重\"\n",
    "                        \n",
    "                        \n",
    "                    names.append(name)\n",
    "                    sexes.append(sex)\n",
    "                    ages.append(age)\n",
    "                    heights.append(height)\n",
    "                    weights.append(weight)\n",
    "                    weight_nors.append(weight_nor)\n",
    "                    results.append(result)\n",
    "                    \n",
    "            #构建DataFrame显示结果       \n",
    "            df = pd.DataFrame()\n",
    "            df[\"sex\"] = sexes\n",
    "            df[\"age\"] = ages\n",
    "            df[\"height\"] = heights\n",
    "            df[\"weight\"] = weights\n",
    "            df[\"weight_nors\"] = weight_nors\n",
    "            df[\"result\"]=results\n",
    "            print(df)\n",
    "            \n",
    "            #画图          显示每个人的体重和标准体重                  \n",
    "            #draw=Draw(names,weights,weight_nors)\n",
    "            #draw.plot_scatter(\"Compare\",\"name\",\"\",\"h_w_table.png\")\n",
    "            plt.scatter(names,weights)\n",
    "            \n",
    "    #分析csv文件        \n",
    "    else:\n",
    "        #获取数据\n",
    "        df = read_csv(filename)\n",
    "        print(\"CSV文件转换为DataFrame：\")\n",
    "        print(df),print(\"\\n\")\n",
    "        dates = []\n",
    "        months = []\n",
    "        highs = []\n",
    "        lows = []\n",
    "        high_list = []\n",
    "        low_list = []\n",
    "        names=[]\n",
    "        \n",
    "        #获取DataFrame中的每列数据\n",
    "        datess = df[df.columns[0]].values   #获取第0列的列名，并以列名为索引获取第一列的日期数据\n",
    "        for date_time in datess:\n",
    "            date_time = datetime.strptime(date_time,\"%Y-%m-%d\")#用datatime的strptime方法为时间字符串设置格式\n",
    "            dates.append(date_time)\n",
    "        months = df[df.columns[1]].values\n",
    "        highs = df[df.columns[2]].values\n",
    "        lows = df[df.columns[3]].values\n",
    "        \n",
    "        print(\"dates\"),print(dates),print(\"\\n\")\n",
    "        print(\"months\"),print(months),print(\"\\n\")\n",
    "        print(\"highs\"),print(highs),print(\"\\n\")\n",
    "        print(\"lows\"),print(lows),print(\"\\n\")\n",
    "        print(\"单独获取四月和六月的数据\"),print(pd.concat([df[:6],df[-6:]]))#concat连接DataFrame\n",
    "        \n",
    "        \n",
    "        \n",
    "        #画图  显示各个日期的最高温与最低温\n",
    "        draw=Draw(dates,highs,lows)\n",
    "        draw.plot_plot(\"Temperature map of Qingdao\",\"date\",\"temperature\",\"tem_table.png\")\n",
    "        \n",
    "        \n",
    "        #获取每月的平均值\n",
    "        outcome = df.groupby(\"month\")    #以month列对DataFrame进行分组，month列值相同的分为一组。返回的outcome为组名name和组中的数据group\n",
    "        for name,group in outcome:      #name,group分别为每组的组名（月份）和其中的数据\n",
    "            try:\n",
    "                high =group[\"max_tem\"].values#取当前组（月）中数据max_tem列的值，返回此列数据的列表\n",
    "                low = group[\"min_tem\"].values\n",
    "            except:\n",
    "                pass\n",
    "            else:\n",
    "                high1 = (high.sum())/len(high)#求当前组（月）最高温度的平均值\n",
    "                low1 = (low.sum())/len(low)#求当前组（月）最低温度的平均值\n",
    "                high_list.append(high1)#将当前组（月）的最高温度平均值放入列表\n",
    "                low_list.append(low1)\n",
    "                names.append(name)\n",
    "                print(name),print(group)\n",
    "                print(\"计算当前组（月）最高温的平均值和最低温的平均值\")\n",
    "                print(high1)\n",
    "                print(low1)\n",
    "                print(\"\\n\\n\")\n",
    "        \n",
    "        #画平均值   显示每月的最高温和最低温的平均值，因为是以月份分组，所以一组就是一个月份\n",
    "        draw=Draw(['a','b','c'],high_list,low_list)\n",
    "        draw.plot_scatter(\"The mean temperature map of months in Qingdao\",\"month\",\"mean temperature\",\"mean_tem.png\")\n",
    "        \n",
    "        \n",
    "        print(\"用分组的结果outcome调用agg函数对每组数据施加函数，计算每组（月）数据的平均值和中位数\"),print(outcome.agg([np.mean,np.median])),print(\"\\n\")\n",
    "        \n",
    "        #构建数据透视表\n",
    "        print(\"\\n\")\n",
    "        table = pd.pivot_table(df,index=[\"month\"],values=[\"max_tem\",\"min_tem\"],aggfunc=[np.sum,np.mean,np.max,np.min])\n",
    "        print(\"数据透视表\"),print(table),print(\"\\n\")\n",
    "        \n",
    "    msg=\"你想重新进行文件分析吗？\"\n",
    "    title=\"请选择\"\n",
    "    if g.ccbox(msg,title):   #ccbox() 提供一个选择：Continue 或者 Cancel，并相应的返回 1（选中Continue）或者 0（选中Cancel）。\n",
    "        continue\n",
    "    else:\n",
    "        tf=False\n",
    "    "
   ]
  },
  {
   "cell_type": "code",
   "execution_count": null,
   "metadata": {
    "collapsed": true
   },
   "outputs": [],
   "source": []
  },
  {
   "cell_type": "code",
   "execution_count": null,
   "metadata": {
    "collapsed": true
   },
   "outputs": [],
   "source": []
  }
 ],
 "metadata": {
  "kernelspec": {
   "display_name": "Python 3",
   "language": "python",
   "name": "python3"
  },
  "language_info": {
   "codemirror_mode": {
    "name": "ipython",
    "version": 3
   },
   "file_extension": ".py",
   "mimetype": "text/x-python",
   "name": "python",
   "nbconvert_exporter": "python",
   "pygments_lexer": "ipython3",
   "version": "3.6.8"
  }
 },
 "nbformat": 4,
 "nbformat_minor": 2
}
